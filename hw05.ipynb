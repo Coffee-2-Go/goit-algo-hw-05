{
 "cells": [
  {
   "cell_type": "markdown",
   "metadata": {},
   "source": [
    "# Опис домашнього завдання"
   ]
  },
  {
   "cell_type": "markdown",
   "metadata": {},
   "source": [
    "# Завдання 1"
   ]
  },
  {
   "cell_type": "markdown",
   "metadata": {},
   "source": [
    "Додати метод delete для видалення пар ключ-значення таблиці HashTable , яка реалізована в конспекті."
   ]
  },
  {
   "cell_type": "code",
   "execution_count": 1,
   "metadata": {},
   "outputs": [
    {
     "name": "stdout",
     "output_type": "stream",
     "text": [
      "[[['orange', 20]], [['banana', 30]], [['apple', 10]]]\n",
      "None\n",
      "None\n",
      "None\n"
     ]
    },
    {
     "data": {
      "text/plain": [
       "[]"
      ]
     },
     "execution_count": 1,
     "metadata": {},
     "output_type": "execute_result"
    }
   ],
   "source": [
    "class HashTable:\n",
    "    def __init__(self, size):\n",
    "        self.size = size\n",
    "        self.table = [[] for _ in range(self.size)]\n",
    "\n",
    "    def hash_function(self, key):\n",
    "        return hash(key) % self.size\n",
    "\n",
    "    def insert(self, key, value):\n",
    "        key_hash = self.hash_function(key)\n",
    "        key_value = [key, value]\n",
    "\n",
    "        if self.table[key_hash] is None:\n",
    "            self.table[key_hash] = list([key_value])\n",
    "            return True\n",
    "        else:\n",
    "            for pair in self.table[key_hash]:\n",
    "                if pair[0] == key:\n",
    "                    pair[1] = value\n",
    "                    return True\n",
    "            self.table[key_hash].append(key_value)\n",
    "            return True\n",
    "\n",
    "    def get(self, key):\n",
    "        key_hash = self.hash_function(key)\n",
    "        if self.table[key_hash] is not None:\n",
    "            for pair in self.table[key_hash]:\n",
    "                if pair[0] == key:\n",
    "                    return pair[1]\n",
    "        return None\n",
    "    \n",
    "    def delete(self, key):\n",
    "        key_hash = self.hash_function(key)\n",
    "        if self.table[key_hash] is not None:\n",
    "            for i, pair in enumerate(self.table[key_hash]):\n",
    "                if pair[0] == key:\n",
    "                    del self.table[key_hash][i]\n",
    "                    return True\n",
    "        return False\n",
    "    \n",
    "    def all(self):\n",
    "        return [sorted(bucket) for bucket in self.table if bucket]\n",
    "\n",
    "# Тестую хеш-таблицю:\n",
    "H = HashTable(5)\n",
    "H.insert(\"apple\", 10)\n",
    "H.insert(\"orange\", 20)\n",
    "H.insert(\"banana\", 30)\n",
    "\n",
    "print(H.all())\n",
    "\n",
    "H.delete(\"apple\")\n",
    "print(H.get(\"apple\"))\n",
    "\n",
    "H.delete(\"orange\")\n",
    "print(H.get(\"orange\"))  \n",
    "\n",
    "H.delete(\"banana\")\n",
    "print(H.get(\"banana\"))\n",
    "\n",
    "H.all()"
   ]
  },
  {
   "cell_type": "markdown",
   "metadata": {},
   "source": [
    "# Завдання 2"
   ]
  },
  {
   "cell_type": "markdown",
   "metadata": {},
   "source": [
    "Реалізувати двійковий пошук для відсортованого масиву з дробовими числами.\n",
    "\n",
    "Написана функція для двійкового пошуку повинна повертати кортеж, де першим елементом є кількість ітерацій, потрібних для знаходження елемента.\n",
    " \n",
    "Другим елементом має бути \"верхня межа\" — це найменший елемент, який є більшим або рівним заданому значенню.\n",
    "\n",
    "Критерії прийняття: Виконання коду повертає кортеж, де першим елементом є кількість ітерацій, потрібних для знаходження елемента. Другим елементом є \"верхня межа\" (найменший елемент, який є більшим або рівним заданому значенню)."
   ]
  },
  {
   "cell_type": "code",
   "execution_count": 2,
   "metadata": {},
   "outputs": [
    {
     "name": "stdout",
     "output_type": "stream",
     "text": [
      "Iterations: 4\n",
      "Upper limit: 1.5\n"
     ]
    }
   ],
   "source": [
    "def binary_search(arr, x):\n",
    "    low_element = 0\n",
    "    high = len(arr) - 1\n",
    "    mid = 0\n",
    "    search_steps = 0  # ініціалізую змінну для кількості ітерацій\n",
    "    \n",
    "\n",
    "    while low_element <= high:              # починаю пошук, поки нижня межа не перевищить верхню\n",
    "        search_steps += 1                   # збільшую кількість ітерацій при кожній ітерації\n",
    "        mid = (high + low_element) // 2     # знаходжу середину поточного діапазону\n",
    "   \n",
    "        # якщо шукане значення \"х\" більше за значення посередині списку, ігнорую ліву половину\n",
    "        if arr[mid] < x:\n",
    "            low_element = mid + 1\n",
    "        # якщо шукане значення \"х\" менше за значення посередині списку, ігнорую праву половину\n",
    "        elif arr[mid] > x:\n",
    "            high = mid - 1\n",
    "        # якщо значення знайдено, повертаю його\n",
    "        else:\n",
    "            return search_steps, arr[mid]\n",
    " \n",
    "# якщо елемент не знайдений\n",
    "    if low_element < len(arr):\n",
    "        upper_limit = arr[low_element]\n",
    "    else:\n",
    "        upper_limit = None\n",
    "\n",
    "    return search_steps, upper_limit\n",
    "\n",
    "arr = [2.5, 3.4, 4.9, 10.12, 40.25]\n",
    "x = 3.4\n",
    "\n",
    "# виводжу результати пошуку\n",
    "search_steps, upper_limit = binary_search(arr, x)\n",
    "print(\"Iterations:\", search_steps)\n",
    "print(\"Upper limit:\", upper_limit)"
   ]
  },
  {
   "cell_type": "markdown",
   "metadata": {},
   "source": [
    "# Завдання 3"
   ]
  },
  {
   "cell_type": "markdown",
   "metadata": {},
   "source": [
    "Порівняти ефективність алгоритмів пошуку підрядка: Боєра-Мура, Кнута-Морріса-Пратта та Рабіна-Карпа на основі двох текстових файлів (стаття 1, стаття 2). \n",
    "\n",
    "Використовуючи timeit, треба виміряти час виконання кожного алгоритму для двох видів підрядків: одного, що дійсно існує в тексті, та іншого — вигаданого (вибір підрядків за вашим бажанням). \n",
    "\n",
    "На основі отриманих даних визначити найшвидший алгоритм для кожного тексту окремо та в цілому."
   ]
  },
  {
   "cell_type": "code",
   "execution_count": 2,
   "metadata": {},
   "outputs": [],
   "source": [
    "from collections import defaultdict\n",
    "\n",
    "def build_shift_table(pattern):  # створює таблицю зсувів символів у патерні для оптимізації пошуку\n",
    "    \"\"\"\n",
    "    Створення таблиці зсувів для алгоритму Боєра-Мура.\n",
    "    Пояснення змінних:\n",
    "    pattern: підрядок, який потрібно знайти у тексті.\n",
    "    shift_table: таблиця зсувів символів у патерні.\n",
    "    pattern_length: довжина патерну.\n",
    "    \"\"\"\n",
    "    shift_table = {}\n",
    "    pattern_length = len(pattern)\n",
    "    # Встановлення зсуву рівному довжині підрядка для кожного символу в підрядку\n",
    "    for index, char in enumerate(pattern[:-1]):\n",
    "        shift_table[char] = pattern_length - index - 1\n",
    "    # Якщо символу немає в таблиці, зсув буде дорівнювати довжині підрядка\n",
    "    shift_table.setdefault(pattern[-1], pattern_length)\n",
    "    return shift_table\n",
    "\n",
    "def boyer_moore_search(text, pattern):\n",
    "    \"\"\"\n",
    "    Алгоритм Боєра-Мура для пошуку підрядка у тексті.\n",
    "    Пояснення змінних:\n",
    "    text: текст, у якому потрібно знайти підрядок.\n",
    "    pattern: підрядок, який потрібно знайти у тексті.\n",
    "    shift_table: таблиця зсувів символів у патерні.\n",
    "    text_index: поточний індекс у тексті.\n",
    "    pattern_index: поточний індекс символу у патерні під час перевірки на відповідність.\n",
    "    \"\"\"\n",
    "    # Створення таблиці зсувів для патерну (підрядка)\n",
    "    shift_table = build_shift_table(pattern)\n",
    "    text_index = 0  # Ініціалізуємо початковий індекс для основного тексту\n",
    "\n",
    "    # Проходження по основному тексту, порівнюючи з підрядком\n",
    "    while text_index <= len(text) - len(pattern):  # головний цикл, що перевіряє можливі зсуви патерну відносно тексту\n",
    "        pattern_index = len(pattern) - 1  # Починаємо з кінця підрядка\n",
    "\n",
    "        # Порівняння символів від кінця підрядка до його початку\n",
    "        while pattern_index >= 0 and text[text_index + pattern_index] == pattern[pattern_index]:  # перевірка відповідності патерну підрядку тексту\n",
    "            pattern_index -= 1  # Зсуваємось до початку підрядка\n",
    "\n",
    "        # Якщо весь підрядок збігається, повертаємо його позицію в тексті\n",
    "        if pattern_index < 0:  # якщо всі символи патерну співпадають з підрядком тексту, алгоритм повертає початковий індекс відповідності\n",
    "            return text_index  # Підрядок знайдено\n",
    "\n",
    "        # Зсув індексу text_index на основі таблиці зсувів\n",
    "        # Це дозволяє \"перестрибувати\" над неспівпадаючими частинами тексту\n",
    "        text_index += shift_table.get(text[text_index + len(pattern) - 1], len(pattern))\n",
    "\n",
    "    # Якщо підрядок не знайдено, повертаємо -1\n",
    "    return -1"
   ]
  },
  {
   "cell_type": "code",
   "execution_count": 3,
   "metadata": {},
   "outputs": [],
   "source": [
    "def compute_lps(pattern):\n",
    "    \"\"\"\n",
    "    Побудова LPS (Longest Prefix Suffix) масиву для патерну.\n",
    "    Пояснення змінних:\n",
    "    pattern: підрядок, для якого будується LPS масив.\n",
    "    lps: масив довжин префіксів, які є суфіксами.\n",
    "    length: поточна довжина префіксу, який є суфіксом.\n",
    "    i: поточний індекс у патерні.\n",
    "    \"\"\"\n",
    "    lps = [0] * len(pattern)\n",
    "    prefix_length = 0\n",
    "    pattern_index = 1\n",
    "\n",
    "    while pattern_index < len(pattern):\n",
    "        if pattern[pattern_index] == pattern[prefix_length]:\n",
    "            prefix_length += 1\n",
    "            lps[pattern_index] = prefix_length\n",
    "            pattern_index += 1\n",
    "        else:\n",
    "            if prefix_length != 0:\n",
    "                prefix_length = lps[prefix_length - 1]\n",
    "            else:\n",
    "                lps[pattern_index] = 0\n",
    "                pattern_index += 1\n",
    "\n",
    "    return lps\n",
    "\n",
    "\n",
    "def knuth_morris_pratt_search(text, pattern):\n",
    "    \"\"\"\n",
    "    Алгоритм Кнута-Морріса-Пратта для пошуку підрядка у тексті.\n",
    "    Пояснення змінних:\n",
    "    text: текст, у якому потрібно знайти підрядок.\n",
    "    pattern: підрядок, який потрібно знайти у тексті.\n",
    "    lps: масив довжин префіксів, які є суфіксами для патерну.\n",
    "    text_index: поточний індекс у тексті.\n",
    "    pattern_index: поточний індекс символу у патерні під час перевірки на відповідність.\n",
    "    \"\"\"\n",
    "    text_length = len(text)\n",
    "    pattern_length = len(pattern)\n",
    "    lps = compute_lps(pattern)\n",
    "\n",
    "    text_index = 0\n",
    "    pattern_index = 0\n",
    "\n",
    "    while text_index < text_length:\n",
    "        if pattern[pattern_index] == text[text_index]:\n",
    "            text_index += 1\n",
    "            pattern_index += 1\n",
    "\n",
    "        if pattern_index == pattern_length:\n",
    "            return text_index - pattern_index  # Підрядок знайдено\n",
    "\n",
    "        elif text_index < text_length and pattern[pattern_index] != text[text_index]:\n",
    "            if pattern_index != 0:\n",
    "                pattern_index = lps[pattern_index - 1]\n",
    "            else:\n",
    "                text_index += 1\n",
    "\n",
    "    return -1  # Якщо підрядок не знайдено"
   ]
  },
  {
   "cell_type": "code",
   "execution_count": 4,
   "metadata": {},
   "outputs": [],
   "source": [
    "def polynomial_hash(s, base=256, modulus=101):\n",
    "    \"\"\"\n",
    "    Повертає поліноміальний хеш рядка s.\n",
    "    Пояснення змінних:\n",
    "    s: рядок, для якого обчислюється хеш.\n",
    "    base: базове число для хешування.\n",
    "    modulus: просте число для запобігання переповнення.\n",
    "    \"\"\"\n",
    "    n = len(s)\n",
    "    hash_value = 0\n",
    "    for i, char in enumerate(s):\n",
    "        power_of_base = pow(base, n - i - 1) % modulus\n",
    "        hash_value = (hash_value + ord(char) * power_of_base) % modulus\n",
    "    return hash_value\n",
    "\n",
    "\n",
    "def rabin_karp_search(main_string, substring):\n",
    "    \"\"\"\n",
    "    Алгоритм Рабіна-Карпа для пошуку підрядка у тексті.\n",
    "    Пояснення змінних:\n",
    "    main_string: основний текст, у якому потрібно знайти підрядок.\n",
    "    substring: підрядок, який потрібно знайти у тексті.\n",
    "    base: базове число для хешування.\n",
    "    modulus: просте число для запобігання переповнення.\n",
    "    substring_length: довжина підрядка.\n",
    "    main_string_length: довжина основного тексту.\n",
    "    substring_hash: хеш-значення для підрядка пошуку.\n",
    "    current_slice_hash: хеш-значення для поточного відрізка в основному рядку.\n",
    "    h_multiplier: попереднє значення для перерахунку хешу.\n",
    "    \"\"\"\n",
    "    # Довжини основного рядка та підрядка пошуку\n",
    "    substring_length = len(substring)\n",
    "    main_string_length = len(main_string)\n",
    "    \n",
    "    # Базове число для хешування та модуль\n",
    "    base = 256 \n",
    "    modulus = 101  \n",
    "    \n",
    "    # Хеш-значення для підрядка пошуку та поточного відрізка в основному рядку\n",
    "    substring_hash = polynomial_hash(substring, base, modulus)\n",
    "    current_slice_hash = polynomial_hash(main_string[:substring_length], base, modulus)\n",
    "    \n",
    "    # Попереднє значення для перерахунку хешу\n",
    "    h_multiplier = pow(base, substring_length - 1) % modulus\n",
    "    \n",
    "    # Проходимо крізь основний рядок\n",
    "    for i in range(main_string_length - substring_length + 1):\n",
    "        if substring_hash == current_slice_hash:\n",
    "            if main_string[i:i + substring_length] == substring:\n",
    "                return i\n",
    "\n",
    "        if i < main_string_length - substring_length:\n",
    "            current_slice_hash = (current_slice_hash - ord(main_string[i]) * h_multiplier) % modulus\n",
    "            current_slice_hash = (current_slice_hash * base + ord(main_string[i + substring_length])) % modulus\n",
    "            if current_slice_hash < 0:\n",
    "                current_slice_hash += modulus\n",
    "\n",
    "    return -1"
   ]
  },
  {
   "cell_type": "code",
   "execution_count": 13,
   "metadata": {},
   "outputs": [],
   "source": [
    "import chardet\n",
    "\n",
    "def read_file_with_unknown_encoding(file_path):\n",
    "    with open(file_path, 'rb') as file:\n",
    "        raw_data = file.read()\n",
    "        result = chardet.detect(raw_data)\n",
    "        encoding = result['encoding']\n",
    "    \n",
    "        # Додатково перевіряємо, чи визначене кодування є прийнятним\n",
    "    try:\n",
    "        with open(file_path, 'r', encoding=encoding) as file:\n",
    "            return file.read()\n",
    "    except (UnicodeDecodeError, TypeError):\n",
    "        # Якщо виникає помилка декодування або chardet не зміг визначити кодування, пробуємо інше кодування\n",
    "        try:\n",
    "            with open(file_path, 'r', encoding='utf-8') as file:\n",
    "                return file.read()\n",
    "        except UnicodeDecodeError:\n",
    "            with open(file_path, 'r', encoding=encoding) as file:\n",
    "                return file.read()\n",
    "        \n",
    "text1 = read_file_with_unknown_encoding(\"source/article_1.txt\")\n",
    "text2 = read_file_with_unknown_encoding(\"source/article_2.txt\")"
   ]
  },
  {
   "cell_type": "code",
   "execution_count": 26,
   "metadata": {},
   "outputs": [],
   "source": [
    "# Реальні підрядки (вибрані частини тексту, які точно існують)\n",
    "real_patterns = [\n",
    "    text1[:50],  # Наприклад, перші 10 символів тексту\n",
    "    text1[80:90],  # Вибірковий підрядок\n",
    "    text2[:50],\n",
    "    text2[80:90]\n",
    "]\n",
    "\n",
    "# Вигадані підрядки (створені рядки, які точно не існують у тексті)\n",
    "fake_patterns = [\n",
    "    'piove di nuovo',\n",
    "    'завтра на роботу',\n",
    "    'гооол!',\n",
    "    'ходімо їсти морозиво'\n",
    "]\n",
    "\n",
    "patterns = real_patterns + fake_patterns"
   ]
  },
  {
   "cell_type": "code",
   "execution_count": 43,
   "metadata": {},
   "outputs": [],
   "source": [
    "import timeit\n",
    "\n",
    "# Тестування\n",
    "def test_algorithms(algorithms, main_string, patterns):\n",
    "    results = {}\n",
    "    for algo_name, algo_func in algorithms.items():\n",
    "        results[algo_name] = 0\n",
    "        for pattern in patterns:\n",
    "            # time_taken = timeit.timeit(lambda: algo_func(main_string, pattern), number=10)\n",
    "            time_taken = measure_search_time(algo_func, main_string, pattern)\n",
    "            results[algo_name] += time_taken\n",
    "    return results\n",
    "\n",
    "\n",
    "def measure_search_time(func, main_string: str, pattern: str) -> int:\n",
    "    setup_code = f\"\"\"from __main__ import {func.__name__}\"\"\"\n",
    "    stmt = f\"{func.__name__}(main_string, pattern)\"\n",
    "    return timeit.timeit(\n",
    "        stmt,\n",
    "        setup=setup_code,\n",
    "        globals={\"main_string\": main_string, \"pattern\": pattern},\n",
    "        number=10,\n",
    "    )"
   ]
  },
  {
   "cell_type": "code",
   "execution_count": 28,
   "metadata": {},
   "outputs": [],
   "source": [
    "algorithms = {\n",
    "    \"Boyer-Moore\": boyer_moore_search,\n",
    "    \"Knuth-Morris-Pratt\": knuth_morris_pratt_search,\n",
    "    \"Rabin-Karp\": rabin_karp_search,\n",
    "}"
   ]
  },
  {
   "cell_type": "code",
   "execution_count": 49,
   "metadata": {},
   "outputs": [
    {
     "name": "stdout",
     "output_type": "stream",
     "text": [
      "Algorithm: Boyer-Moore               Time taken: 0.03334680 seconds\n",
      "Algorithm: Knuth-Morris-Pratt        Time taken: 0.18268130 seconds\n",
      "Algorithm: Rabin-Karp                Time taken: 0.33566020 seconds\n"
     ]
    }
   ],
   "source": [
    "results_text1 = test_algorithms(algorithms, text1.lower(), patterns)\n",
    "for algo, timings in results_text1.items():\n",
    "    print(f\"Algorithm: {algo:<25} Time taken: {timings:.8f} seconds\")"
   ]
  },
  {
   "cell_type": "code",
   "execution_count": 50,
   "metadata": {},
   "outputs": [
    {
     "name": "stdout",
     "output_type": "stream",
     "text": [
      "Algorithm: Boyer-Moore               Time taken: 0.03962710 seconds\n",
      "Algorithm: Knuth-Morris-Pratt        Time taken: 0.21693910 seconds\n",
      "Algorithm: Rabin-Karp                Time taken: 0.39835510 seconds\n"
     ]
    }
   ],
   "source": [
    "results_text2 = test_algorithms(algorithms, text2.lower(), patterns)\n",
    "for algo, timings in results_text2.items():\n",
    "    print(f\"Algorithm: {algo:<25} Time taken: {timings:.8f} seconds\")"
   ]
  },
  {
   "cell_type": "code",
   "execution_count": 53,
   "metadata": {},
   "outputs": [
    {
     "data": {
      "text/plain": [
       "{'Boyer-Moore': 0.07297389997984283,\n",
       " 'Knuth-Morris-Pratt': 0.3996203999995487,\n",
       " 'Rabin-Karp': 0.7340153000259306}"
      ]
     },
     "execution_count": 53,
     "metadata": {},
     "output_type": "execute_result"
    }
   ],
   "source": [
    "from copy import deepcopy\n",
    "\n",
    "# Bизначення найшвидшого алгоритму\n",
    "results_total = deepcopy(results_text1)\n",
    "for algo, timing in results_text2.items():\n",
    "    results_total[algo] += timing\n",
    "\n",
    "results_total"
   ]
  },
  {
   "cell_type": "markdown",
   "metadata": {},
   "source": [
    "Висновки:\n",
    "\n",
    "У даній роботі порівнюється ефективність трьох алгоритмів пошуку підрядка: Боєра-Мура, Кнута-Морріса-Пратта та Рабіна-Карпа.\\\n",
    "Порівняння проводилося на основі двох текстових файлів з використанням двох видів підрядків: тих, що існують у тексті, та вигаданих.\\\n",
    "Найшвидшим алгоритм як для першого тексту, так і для другого виявився алгоритм Боєра-Мура (0.0333468 сек і 0.0396271 сек відповідно).\\\n",
    "Для визначення н0729947айшвидшого алгоритму в цілому було обраховано сумарний час виконання кожного алгоритму для обох текстів: \n",
    "- Боєра-Мура: 0.07297 сек;\n",
    "- Кнута-Морріса-Пратта: 0.39962 сек;\n",
    "- Рабіна-Карпа: 0.73402 сек.\\\n",
    "Алгоритм Боєра-Мура виявився найшвидшим для обох текстів та в цілому завдяки здатності пропускати частини тексту, що значно зменшує кількість порівнянь символів. Це робить його ефективним для пошуку підрядків у великих текстах з великими алфавітами, що підтверджується результатами даного тестування.\\\n",
    "У найкращому випадку алгоритм Боєра-Мура може мати лінійну часову складність O(n), де n — це довжина тексту. Це досягається, коли жоден символ підрядка не збігається з символами тексту, змушуючи алгоритм робити максимальний можливий зсув при кожній невдалій спробі знаходження збігу.\n",
    "Однак у найгіршому випадку, особливо коли символи підрядка часто зустрічаються в тексті, але сам підрядок не знаходиться, часова складність може досягти O(n⋅m), де m — це довжина підрядка.\\\n",
    "У загальному випадку алгоритм Боєра-Мура, завдяки своїй стратегії зсуву, часто виявляється швидшим у порівнянні з багатьма іншими алгоритмами пошуку."
   ]
  }
 ],
 "metadata": {
  "kernelspec": {
   "display_name": "Python 3",
   "language": "python",
   "name": "python3"
  },
  "language_info": {
   "codemirror_mode": {
    "name": "ipython",
    "version": 3
   },
   "file_extension": ".py",
   "mimetype": "text/x-python",
   "name": "python",
   "nbconvert_exporter": "python",
   "pygments_lexer": "ipython3",
   "version": "3.12.3"
  }
 },
 "nbformat": 4,
 "nbformat_minor": 2
}
